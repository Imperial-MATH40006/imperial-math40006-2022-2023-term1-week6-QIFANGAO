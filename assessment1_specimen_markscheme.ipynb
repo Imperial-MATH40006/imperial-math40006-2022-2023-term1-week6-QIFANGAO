{
 "cells": [
  {
   "cell_type": "markdown",
   "metadata": {
    "nbgrader": {
     "grade": false,
     "grade_id": "cell-7768773a1cfc3752",
     "locked": true,
     "schema_version": 3,
     "solution": false
    }
   },
   "source": [
    "# M40006 In-Course Assessment\n",
    "\n",
    "# Specimen Paper\n",
    "\n",
    "## One Hour\n",
    "\n",
    "### Answer all questions, submitting your answers as a single Jupyter notebook."
   ]
  },
  {
   "cell_type": "markdown",
   "metadata": {
    "nbgrader": {
     "grade": false,
     "grade_id": "cell-2c3056a6124a5127",
     "locked": true,
     "schema_version": 3,
     "solution": false
    }
   },
   "source": [
    "To carry out this assignment, you may find useful, possibly amongst others:\n",
    "<ul>\n",
    "    <li>the core Python <code>pow</code>, <code>range</code>, <code>abs</code> and <code>round</code> functions;</li>\n",
    "    <li>the functions <code>exp</code> and <code>log</code> from the <code>math</code> module.</li>\n",
    "</ul>"
   ]
  },
  {
   "cell_type": "markdown",
   "metadata": {
    "nbgrader": {
     "grade": false,
     "grade_id": "cell-3b0ada2b9a80bba9",
     "locked": true,
     "schema_version": 3,
     "solution": false
    }
   },
   "source": [
    "## Question 1 (20 marks)\n",
    "\n",
    "Using Python, and showing your code:"
   ]
  },
  {
   "cell_type": "markdown",
   "metadata": {
    "nbgrader": {
     "grade": false,
     "grade_id": "cell-e3b16606adbbf31a",
     "locked": true,
     "schema_version": 3,
     "solution": false
    }
   },
   "source": [
    "(a) Define, as ints, the variables $a=7531$, $b=8392$ and $c=9917$."
   ]
  },
  {
   "cell_type": "code",
   "execution_count": null,
   "metadata": {
    "nbgrader": {
     "grade": true,
     "grade_id": "cell-5283fe9b75424541",
     "locked": false,
     "points": 3,
     "schema_version": 3,
     "solution": true
    }
   },
   "outputs": [],
   "source": [
    "a, b, c = 7531, 8392, 9917\n",
    "\n",
    "# 3 marks"
   ]
  },
  {
   "cell_type": "markdown",
   "metadata": {
    "nbgrader": {
     "grade": false,
     "grade_id": "cell-ea7543901978045e",
     "locked": true,
     "schema_version": 3,
     "solution": false
    }
   },
   "source": [
    "(b) Calculate, as an int, $a \\times b$."
   ]
  },
  {
   "cell_type": "code",
   "execution_count": null,
   "metadata": {
    "nbgrader": {
     "grade": true,
     "grade_id": "cell-f3ce9155e9d81a9c",
     "locked": false,
     "points": 2,
     "schema_version": 3,
     "solution": true
    }
   },
   "outputs": [],
   "source": [
    "a * b\n",
    "\n",
    "# 2 marks"
   ]
  },
  {
   "cell_type": "markdown",
   "metadata": {
    "nbgrader": {
     "grade": false,
     "grade_id": "cell-0260060628275456",
     "locked": true,
     "schema_version": 3,
     "solution": false
    }
   },
   "source": [
    "(c) Calculate, as a float, $a/b$."
   ]
  },
  {
   "cell_type": "code",
   "execution_count": null,
   "metadata": {
    "nbgrader": {
     "grade": true,
     "grade_id": "cell-a8e5ebbcdddbcd79",
     "locked": false,
     "points": 2,
     "schema_version": 3,
     "solution": true
    }
   },
   "outputs": [],
   "source": [
    "a / b\n",
    "\n",
    "# 2 marks"
   ]
  },
  {
   "cell_type": "markdown",
   "metadata": {
    "nbgrader": {
     "grade": false,
     "grade_id": "cell-99fb40e2b475fdc2",
     "locked": true,
     "schema_version": 3,
     "solution": false
    }
   },
   "source": [
    "(d) Calculate, as an int, the greatest integer less than or equal to $a^2/b$."
   ]
  },
  {
   "cell_type": "code",
   "execution_count": null,
   "metadata": {
    "nbgrader": {
     "grade": true,
     "grade_id": "cell-b9b45249f78a7a43",
     "locked": false,
     "points": 3,
     "schema_version": 3,
     "solution": true
    }
   },
   "outputs": [],
   "source": [
    "a**2//b\n",
    "\n",
    "# 3 marks\n",
    "\n",
    "# accept anything valid, such as int(a**2/b), but perhaps mention that this way is best"
   ]
  },
  {
   "cell_type": "markdown",
   "metadata": {
    "nbgrader": {
     "grade": false,
     "grade_id": "cell-3744f46358c8eadf",
     "locked": true,
     "schema_version": 3,
     "solution": false
    }
   },
   "source": [
    "(e) Calculate, as an int, the remainder when $a^2$ is divided by $b$."
   ]
  },
  {
   "cell_type": "code",
   "execution_count": null,
   "metadata": {
    "nbgrader": {
     "grade": true,
     "grade_id": "cell-a108cf0248f58238",
     "locked": false,
     "points": 3,
     "schema_version": 3,
     "solution": true
    }
   },
   "outputs": [],
   "source": [
    "pow(a,2,b)\n",
    "\n",
    "# 3 marks\n",
    "\n",
    "# accept anything valid, such as a**2/b - int(a**2/b), but perhaps mention that this way is best"
   ]
  },
  {
   "cell_type": "markdown",
   "metadata": {
    "nbgrader": {
     "grade": false,
     "grade_id": "cell-47dd8a847b0bd23f",
     "locked": true,
     "schema_version": 3,
     "solution": false
    }
   },
   "source": [
    "(f) Calculate, as an int, the remainder when $a^b$ is divided by $c$. There are some marks for doing this fairly efficiently."
   ]
  },
  {
   "cell_type": "code",
   "execution_count": null,
   "metadata": {
    "nbgrader": {
     "grade": true,
     "grade_id": "cell-366a2c0ddd821e0a",
     "locked": false,
     "points": 4,
     "schema_version": 3,
     "solution": true
    }
   },
   "outputs": [],
   "source": [
    "pow(a,b,c)\n",
    "\n",
    "# 4 marks\n",
    "\n",
    "# any valid method 3 marks\n",
    "# use of pow 1 mark"
   ]
  },
  {
   "cell_type": "markdown",
   "metadata": {
    "nbgrader": {
     "grade": false,
     "grade_id": "cell-3d27e62b3ffb8f31",
     "locked": true,
     "schema_version": 3,
     "solution": false
    }
   },
   "source": [
    "(g) Calculate, as a float, the value of $e^{a/b}$."
   ]
  },
  {
   "cell_type": "code",
   "execution_count": null,
   "metadata": {
    "nbgrader": {
     "grade": true,
     "grade_id": "cell-e79b41a1c35d530c",
     "locked": false,
     "points": 3,
     "schema_version": 3,
     "solution": true
    }
   },
   "outputs": [],
   "source": [
    "from math import exp\n",
    "exp(a/b)\n",
    "\n",
    "# 3 marks\n",
    "\n",
    "# allow other modes of importing the math module\n",
    "# allow the use of the numpy exp function"
   ]
  },
  {
   "cell_type": "markdown",
   "metadata": {
    "nbgrader": {
     "grade": false,
     "grade_id": "cell-5fa7c9b5af4004aa",
     "locked": true,
     "schema_version": 3,
     "solution": false
    }
   },
   "source": [
    "## Question 2 (30 marks)\n",
    "\n",
    "(a) By iterating the function\n",
    "$$f(y) = a\\,e^{-y}$$\n",
    "twenty times in each case using a `for` loop, in each case starting with $y=0.0$, find a solution of the equation\n",
    "$$y\\,e^y=a$$\n",
    "in the cases\n",
    "(i) $a=1.0$;\n",
    "(ii) $a=2.0$.\n",
    "In each case, you need print only the final value of your solution."
   ]
  },
  {
   "cell_type": "code",
   "execution_count": 15,
   "metadata": {
    "nbgrader": {
     "grade": true,
     "grade_id": "cell-1a3def6ab07047bb",
     "locked": false,
     "points": 4,
     "schema_version": 3,
     "solution": true
    }
   },
   "outputs": [
    {
     "name": "stdout",
     "output_type": "stream",
     "text": [
      "0.5671354902062784\n",
      "0.8184389794426334\n"
     ]
    }
   ],
   "source": [
    "a = 1.0\n",
    "y = 0.0\n",
    "for r in range(20):\n",
    "    y = a*exp(-y)\n",
    "print(y)\n",
    "a = 2.0\n",
    "y = 0.0\n",
    "for r in range(20):\n",
    "    y = a*exp(-y)\n",
    "print(y)\n",
    "\n",
    "# 4 marks\n",
    "# 2 marks for each part"
   ]
  },
  {
   "cell_type": "markdown",
   "metadata": {
    "nbgrader": {
     "grade": false,
     "grade_id": "cell-716c6019954e023f",
     "locked": true,
     "schema_version": 3,
     "solution": false
    }
   },
   "source": [
    "(b) By iterating the function\n",
    "$$f(y) = a\\,e^{-y}$$\n",
    "using a `while` loop until successive iterates lie within $10^{-8}$ of each other, in each case starting with $y=0.0$, find a solution of the equation\n",
    "$$y\\,e^y=a$$\n",
    "in the cases\n",
    "(i) $a=1.0$;\n",
    "(ii) $a=2.0$.\n",
    "\n",
    "In each case, print  the final value of your solution, and also count, and print, the number of iterations that were necessary."
   ]
  },
  {
   "cell_type": "code",
   "execution_count": 3,
   "metadata": {
    "nbgrader": {
     "grade": true,
     "grade_id": "cell-bca7db84f9713c17",
     "locked": false,
     "points": 6,
     "schema_version": 3,
     "solution": true
    }
   },
   "outputs": [
    {
     "name": "stdout",
     "output_type": "stream",
     "text": [
      "0.5671432876313107 33\n",
      "0.8526054979184808 119\n"
     ]
    }
   ],
   "source": [
    "a = 1.0\n",
    "oldy = 0.0\n",
    "newy = a\n",
    "count = 0\n",
    "while abs(oldy-newy) > 1e-8:\n",
    "    oldy = newy\n",
    "    newy = a * exp(-oldy)\n",
    "    count += 1\n",
    "print(newy, count)\n",
    "\n",
    "a = 2.0\n",
    "oldy = 0.0\n",
    "newy = a\n",
    "count = 0\n",
    "while abs(oldy-newy) > 1e-8:\n",
    "    oldy = newy\n",
    "    newy = a * exp(-oldy)\n",
    "    count += 1\n",
    "print(newy, count)\n",
    "\n",
    "# 6 marks\n",
    "# 2 marks each for while loop\n",
    "# 1 mark each for iteration count"
   ]
  },
  {
   "cell_type": "markdown",
   "metadata": {
    "nbgrader": {
     "grade": false,
     "grade_id": "cell-c0677e74909bc0ba",
     "locked": true,
     "schema_version": 3,
     "solution": false
    }
   },
   "source": [
    "(c) Investigate what happens when\n",
    "$$f(y) = a\\,e^{-y}$$\n",
    "is iterated for $a=3.0$, and briefly explain why this might be problematic for your `while` loop."
   ]
  },
  {
   "cell_type": "code",
   "execution_count": 3,
   "metadata": {
    "nbgrader": {
     "grade": true,
     "grade_id": "cell-887fefb6c615feb0",
     "locked": false,
     "points": 2,
     "schema_version": 3,
     "solution": true
    }
   },
   "outputs": [
    {
     "name": "stdout",
     "output_type": "stream",
     "text": [
      "0.4083596498363292\n",
      "1.994219286837484\n",
      "0.4083596498363292\n",
      "1.994219286837484\n",
      "0.4083596498363292\n",
      "1.994219286837484\n",
      "0.4083596498363292\n",
      "1.994219286837484\n",
      "0.4083596498363292\n"
     ]
    }
   ],
   "source": [
    "a = 3.0\n",
    "y = 0.0\n",
    "for r in range(2000):\n",
    "    y = a*exp(-y)\n",
    "    if r > 1990:\n",
    "        print(y)\n",
    "\n",
    "# 2 marks\n",
    "# only award full marks if the iteration has been carried to some depth, so that the \n",
    "# limiting behaviour is apparent\n",
    "# if not, award only 1 mark"
   ]
  },
  {
   "cell_type": "markdown",
   "metadata": {
    "nbgrader": {
     "grade": true,
     "grade_id": "cell-c79d0daa3480b805",
     "locked": false,
     "points": 1,
     "schema_version": 3,
     "solution": true
    }
   },
   "source": [
    "The iteration seems to converge to a 2-cycle (or equivalent).\n",
    "\n",
    "<b>1 mark</b>"
   ]
  },
  {
   "cell_type": "markdown",
   "metadata": {
    "nbgrader": {
     "grade": false,
     "grade_id": "cell-e4d02f57b7eea586",
     "locked": true,
     "schema_version": 3,
     "solution": false
    }
   },
   "source": [
    "(d) For the case $a=3.0$, solve\n",
    "$$y\\,e^y = a$$\n",
    "by using Newton's method: that is, by instead iterating \n",
    "$$f(y) = y - \\frac{y\\,e^y-a}{(1+y)\\,e^y}.$$\n",
    "Again, start with $y=0.0$ and again, iterate until successive iterates lie within $10^{-8}$ of each other. Again, print  the final value of your solution, and also count, and print, the number of iterations that were necessary."
   ]
  },
  {
   "cell_type": "code",
   "execution_count": 11,
   "metadata": {
    "nbgrader": {
     "grade": true,
     "grade_id": "cell-009c00d86d5122fa",
     "locked": false,
     "points": 3,
     "schema_version": 3,
     "solution": true
    }
   },
   "outputs": [
    {
     "name": "stdout",
     "output_type": "stream",
     "text": [
      "1.04990889496404 8\n"
     ]
    }
   ],
   "source": [
    "a = 3.0\n",
    "oldy = 0.0\n",
    "newy = oldy - (oldy*exp(oldy) - a)/((1+oldy)*exp(oldy))\n",
    "count = 0\n",
    "while abs(oldy-newy) > 1e-8:\n",
    "    oldy = newy\n",
    "    newy = oldy - (oldy*exp(oldy) - a)/((1+oldy)*exp(oldy))\n",
    "    count += 1\n",
    "print(newy, count)\n",
    "\n",
    "# 3 marks\n",
    "# 2 for correct use of while loop, 1 for iteration count\n",
    "# accept any valid method as long as it uses Newton's method"
   ]
  },
  {
   "cell_type": "markdown",
   "metadata": {
    "nbgrader": {
     "grade": false,
     "grade_id": "cell-06386de9a027b8d0",
     "locked": true,
     "schema_version": 3,
     "solution": false
    }
   },
   "source": [
    "(e) Show, by choosing different starting values for $y$, that in the case $a=-0.2$, the equation $y\\,e^y=a$ seems to have at least two real solutions, one close to $y=0$ and one close to $y=-3$. Use Newton's Method each time."
   ]
  },
  {
   "cell_type": "code",
   "execution_count": 12,
   "metadata": {
    "nbgrader": {
     "grade": true,
     "grade_id": "cell-024e2b5cd2f6e663",
     "locked": false,
     "points": 4,
     "schema_version": 3,
     "solution": true
    }
   },
   "outputs": [
    {
     "name": "stdout",
     "output_type": "stream",
     "text": [
      "-0.25917110181907377\n",
      "-2.5426413577735265\n"
     ]
    }
   ],
   "source": [
    "a = -0.2\n",
    "oldy = 0\n",
    "newy = oldy - (oldy*exp(oldy) - a)/((1+oldy)*exp(oldy))\n",
    "while abs(oldy-newy) > 1e-8:\n",
    "    oldy = newy\n",
    "    newy = oldy - (oldy*exp(oldy) - a)/((1+oldy)*exp(oldy))\n",
    "print(newy)\n",
    "\n",
    "a = -0.2\n",
    "oldy = -3\n",
    "newy = oldy - (oldy*exp(oldy) - a)/((1+oldy)*exp(oldy))\n",
    "while abs(oldy-newy) > 1e-8:\n",
    "    oldy = newy\n",
    "    newy = oldy - (oldy*exp(oldy) - a)/((1+oldy)*exp(oldy))\n",
    "print(newy)\n",
    "\n",
    "# 4 marks\n",
    "# 2 for each"
   ]
  },
  {
   "cell_type": "markdown",
   "metadata": {
    "nbgrader": {
     "grade": false,
     "grade_id": "cell-a8d5f8fe140b77a9",
     "locked": true,
     "schema_version": 3,
     "solution": false
    }
   },
   "source": [
    "(f) Write a function called `LambertW0` that takes as its argument a single float, $a$, and returns a solution of\n",
    "$$y\\,e^y = a,$$\n",
    "obtained using Newton's method, starting at $y=0.0$, and iterating until successive iterates lie within $10^{-8}$ of one another.\n",
    "\n",
    "Test your function on $a=1.0$, $a=2.0$, $a=3.0$ and $a=-0.2$"
   ]
  },
  {
   "cell_type": "code",
   "execution_count": 13,
   "metadata": {
    "nbgrader": {
     "grade": true,
     "grade_id": "cell-9e85fbeef9bcbcd8",
     "locked": false,
     "points": 5,
     "schema_version": 3,
     "solution": true
    }
   },
   "outputs": [
    {
     "data": {
      "text/plain": [
       "0.567143290409784"
      ]
     },
     "execution_count": 13,
     "metadata": {},
     "output_type": "execute_result"
    }
   ],
   "source": [
    "def LambertW0(a):\n",
    "    oldy = 0.0\n",
    "    newy = oldy - (oldy*exp(oldy) - a)/((1+oldy)*exp(oldy))\n",
    "    \n",
    "    while abs(oldy-newy) > 1e-8:\n",
    "        oldy = newy\n",
    "        newy = oldy - (oldy*exp(oldy) - a)/((1+oldy)*exp(oldy))\n",
    "    \n",
    "    return newy\n",
    "LambertW0(1.0)\n",
    "\n",
    "# 3 marks\n",
    "# 1 for correct def line, 2 for body of function, \n",
    "# 1 for correct return, 1 for testing\n",
    "# do not award \"return\" mark if the value has simply been printed"
   ]
  },
  {
   "cell_type": "markdown",
   "metadata": {
    "nbgrader": {
     "grade": false,
     "grade_id": "cell-6988296632a96e82",
     "locked": true,
     "schema_version": 3,
     "solution": false
    }
   },
   "source": [
    "(e) Write a function called `LambertWminus1` that takes as its argument a single float, $a$, and returns a solution of\n",
    "$$y\\,e^y = a,$$\n",
    "obtained using Newton's method, and iterating until successive iterates lie within $10^{-8}$ of one another, <em>this time starting at</em> $y=\\log(-a)$. Test it on a few selected values of $a$ between $-0.36$ and $-0.01$."
   ]
  },
  {
   "cell_type": "code",
   "execution_count": 14,
   "metadata": {
    "nbgrader": {
     "grade": true,
     "grade_id": "cell-478920f988605860",
     "locked": false,
     "points": 5,
     "schema_version": 3,
     "solution": true
    }
   },
   "outputs": [
    {
     "name": "stdout",
     "output_type": "stream",
     "text": [
      "-6.472775124394005\n",
      "-3.577152063957297\n",
      "-2.5426413577735265\n",
      "-1.2227701339785064\n"
     ]
    }
   ],
   "source": [
    "from math import log\n",
    "def LambertWminus1(a):\n",
    "    oldy = log(-a)\n",
    "    newy = oldy - (oldy*exp(oldy) - a)/((1+oldy)*exp(oldy))\n",
    "    \n",
    "    while abs(oldy-newy) > 1e-8:\n",
    "        oldy = newy\n",
    "        newy = oldy - (oldy*exp(oldy) - a)/((1+oldy)*exp(oldy))\n",
    "    \n",
    "    return newy\n",
    "print(LambertWminus1(-0.01))\n",
    "print(LambertWminus1(-0.1))\n",
    "print(LambertWminus1(-0.2))\n",
    "print(LambertWminus1(-0.36))\n",
    "\n",
    "# 5 marks\n",
    "# 1 for correct def line, 2 for body of function, \n",
    "# 1 for correct return, 1 for testing\n",
    "# do not award \"return\" mark if the value has simply been printed"
   ]
  }
 ],
 "metadata": {
  "celltoolbar": "Create Assignment",
  "kernelspec": {
   "display_name": "Python 3 (ipykernel)",
   "language": "python",
   "name": "python3"
  },
  "language_info": {
   "codemirror_mode": {
    "name": "ipython",
    "version": 3
   },
   "file_extension": ".py",
   "mimetype": "text/x-python",
   "name": "python",
   "nbconvert_exporter": "python",
   "pygments_lexer": "ipython3",
   "version": "3.10.4"
  }
 },
 "nbformat": 4,
 "nbformat_minor": 4
}
